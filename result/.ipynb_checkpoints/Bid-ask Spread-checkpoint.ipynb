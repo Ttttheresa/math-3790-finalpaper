{
 "cells": [
  {
   "cell_type": "code",
   "execution_count": 5,
   "id": "6c09a862",
   "metadata": {},
   "outputs": [],
   "source": [
    "import pandas as pd\n",
    "\n",
    "test_currency = \"AUDUSD\"\n",
    "data_ls = [\"AUDUSD-2024-01\",\"AUDUSD-2024-02\",\"AUDUSD-2024-03\",\"AUDUSD-2024-04\"]\n",
    "\n",
    "dfs = []\n",
    "for data in data_ls:\n",
    "    file_path = \"E:\\Work\\MSc-Individual-Project-main_my version\\Experiment copy/\" + data + \".csv\"\n",
    "    \n",
    "    # Read the file into a dataframe\n",
    "    df = pd.read_csv(file_path)\n",
    "    \n",
    "    # Assign column names\n",
    "    df.columns = ['Currency','Time', 'Bid', 'Ask']\n",
    "    \n",
    "    # Calculate the bid-ask spread\n",
    "    df['Spread'] = df['Ask'] - df['Bid']\n",
    "    \n",
    "    # Append the dataframe to the list\n",
    "    dfs.append(df)\n",
    "    \n",
    "\n",
    "# Concatenate all the dataframes into a single dataframe\n",
    "combined_data = pd.concat(dfs)\n"
   ]
  },
  {
   "cell_type": "code",
   "execution_count": 6,
   "id": "1f7d97bd",
   "metadata": {},
   "outputs": [
    {
     "data": {
      "text/plain": [
       "(7e-05,\n",
       " 6e-05,\n",
       " 0.25    0.00005\n",
       " 0.50    0.00007\n",
       " 0.75    0.00009\n",
       " Name: Spread, dtype: float64)"
      ]
     },
     "execution_count": 6,
     "metadata": {},
     "output_type": "execute_result"
    }
   ],
   "source": [
    "# Calculate the mean, standard deviation, and quantiles for the combined data\n",
    "mean_spread_combined = combined_data['Spread'].mean()\n",
    "std_spread_combined = combined_data['Spread'].std()\n",
    "quantiles_spread_combined = combined_data['Spread'].quantile([0.25, 0.5, 0.75])\n",
    "\n",
    "round(mean_spread_combined,5), round(std_spread_combined,5), round(quantiles_spread_combined,5)"
   ]
  },
  {
   "cell_type": "code",
   "execution_count": 9,
   "id": "402e6e84",
   "metadata": {},
   "outputs": [],
   "source": [
    "test_currency = \"EURUSD\"\n",
    "data_ls = [\"EURUSD-2024-01\",\"EURUSD-2024-02\",\"EURUSD-2024-03\",\"EURUSD-2024-04\"]\n",
    "dfs = []\n",
    "for data in data_ls:\n",
    "    file_path = \"E:\\Work\\MSc-Individual-Project-main_my version\\Experiment copy/\" + data + \".csv\"\n",
    "    \n",
    "    # Read the file into a dataframe\n",
    "    df = pd.read_csv(file_path)\n",
    "    \n",
    "    # Assign column names\n",
    "    df.columns = ['Currency','Time', 'Bid', 'Ask']\n",
    "    \n",
    "    # Calculate the bid-ask spread\n",
    "    df['Spread'] = df['Ask'] - df['Bid']\n",
    "    \n",
    "    # Append the dataframe to the list\n",
    "    dfs.append(df)\n",
    "    \n",
    "\n",
    "# Concatenate all the dataframes into a single dataframe\n",
    "combined_data = pd.concat(dfs)"
   ]
  },
  {
   "cell_type": "code",
   "execution_count": 10,
   "id": "e1d16b1b",
   "metadata": {},
   "outputs": [
    {
     "data": {
      "text/plain": [
       "(6e-05,\n",
       " 5e-05,\n",
       " 0.25    0.00003\n",
       " 0.50    0.00006\n",
       " 0.75    0.00008\n",
       " Name: Spread, dtype: float64)"
      ]
     },
     "execution_count": 10,
     "metadata": {},
     "output_type": "execute_result"
    }
   ],
   "source": [
    "# Calculate the mean, standard deviation, and quantiles for the combined data\n",
    "mean_spread_combined = combined_data['Spread'].mean()\n",
    "std_spread_combined = combined_data['Spread'].std()\n",
    "quantiles_spread_combined = combined_data['Spread'].quantile([0.25, 0.5, 0.75])\n",
    "\n",
    "round(mean_spread_combined,5), round(std_spread_combined,5), round(quantiles_spread_combined,5)"
   ]
  },
  {
   "cell_type": "code",
   "execution_count": 11,
   "id": "7dbdd407",
   "metadata": {},
   "outputs": [],
   "source": [
    "test_currency = \"USDCAD\"\n",
    "data_ls = [\"USDCAD-2024-01\",\"USDCAD-2024-02\",\"USDCAD-2024-03\",\"USDCAD-2024-04\"]\n",
    "\n",
    "dfs = []\n",
    "for data in data_ls:\n",
    "    file_path = \"E:\\Work\\MSc-Individual-Project-main_my version\\Experiment copy/\" + data + \".csv\"\n",
    "    \n",
    "    # Read the file into a dataframe\n",
    "    df = pd.read_csv(file_path)\n",
    "    \n",
    "    # Assign column names\n",
    "    df.columns = ['Currency','Time', 'Bid', 'Ask']\n",
    "    \n",
    "    # Calculate the bid-ask spread\n",
    "    df['Spread'] = df['Ask'] - df['Bid']\n",
    "    \n",
    "    # Append the dataframe to the list\n",
    "    dfs.append(df)\n",
    "    \n",
    "\n",
    "# Concatenate all the dataframes into a single dataframe\n",
    "combined_data = pd.concat(dfs)"
   ]
  },
  {
   "cell_type": "code",
   "execution_count": 12,
   "id": "d303284e",
   "metadata": {},
   "outputs": [
    {
     "data": {
      "text/plain": [
       "(8e-05,\n",
       " 6e-05,\n",
       " 0.25    0.00006\n",
       " 0.50    0.00008\n",
       " 0.75    0.00010\n",
       " Name: Spread, dtype: float64)"
      ]
     },
     "execution_count": 12,
     "metadata": {},
     "output_type": "execute_result"
    }
   ],
   "source": [
    "# Calculate the mean, standard deviation, and quantiles for the combined data\n",
    "mean_spread_combined = combined_data['Spread'].mean()\n",
    "std_spread_combined = combined_data['Spread'].std()\n",
    "quantiles_spread_combined = combined_data['Spread'].quantile([0.25, 0.5, 0.75])\n",
    "\n",
    "round(mean_spread_combined,5), round(std_spread_combined,5), round(quantiles_spread_combined,5)"
   ]
  },
  {
   "cell_type": "code",
   "execution_count": 13,
   "id": "e1adfe1f",
   "metadata": {},
   "outputs": [
    {
     "data": {
      "text/plain": [
       "0          0.00296\n",
       "1          0.00309\n",
       "2          0.00296\n",
       "3          0.00309\n",
       "4          0.00296\n",
       "            ...   \n",
       "9976844    0.00008\n",
       "9976845    0.00016\n",
       "9976846    0.00008\n",
       "9976847    0.00016\n",
       "9976848    0.00008\n",
       "Name: Spread, Length: 47126800, dtype: float64"
      ]
     },
     "execution_count": 13,
     "metadata": {},
     "output_type": "execute_result"
    }
   ],
   "source": [
    "combined_data['Spread']"
   ]
  },
  {
   "cell_type": "code",
   "execution_count": null,
   "id": "f0cf6cd0",
   "metadata": {},
   "outputs": [],
   "source": []
  }
 ],
 "metadata": {
  "kernelspec": {
   "display_name": "Python 3 (ipykernel)",
   "language": "python",
   "name": "python3"
  },
  "language_info": {
   "codemirror_mode": {
    "name": "ipython",
    "version": 3
   },
   "file_extension": ".py",
   "mimetype": "text/x-python",
   "name": "python",
   "nbconvert_exporter": "python",
   "pygments_lexer": "ipython3",
   "version": "3.11.4"
  },
  "vscode": {
   "interpreter": {
    "hash": "f497dca8b8959cdfd96105feb227e35739d0397e38cdbb5c92658129a1711770"
   }
  }
 },
 "nbformat": 4,
 "nbformat_minor": 5
}
